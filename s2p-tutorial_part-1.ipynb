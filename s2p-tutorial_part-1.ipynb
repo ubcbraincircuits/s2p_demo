{
 "cells": [
  {
   "cell_type": "markdown",
   "metadata": {},
   "source": [
    "<img src=tutorial_images\\NINC_DBC_DMCBH_logos.jpg>\n",
    "\n",
    "These tutorial notebooks were developed at the Djavad Mowafaghian Centre for Brain Health by the NINC/UBC Brain Circuits team.  If you find the tutorials useful you can acknowledge us with the following statement: \n",
    "\n",
    "<em>\"This work was supported by resources made available through the Dynamic Brain Circuits cluster and the NeuroImaging and NeuroComputation Core at the UBC Djavad Mowafaghian Centre for Brain Health (RRID:SCR_019086).\"</em>\n",
    "\n",
    "If you use the packages in your research, please cite the originators as per their documentation."
   ]
  },
  {
   "cell_type": "markdown",
   "metadata": {},
   "source": [
    "# Suite2p Tutorial - part 1\n",
    "\n",
    "In the first part of the suite2p demo, we will download the GUI version of Suite2p then try running it with a sample .tiff file. \n",
    "\n",
    "If the code block below is showing warnings, check that you have the correct kernel running.\n",
    "\n",
    ">To view your current kernel or change kernels, go to the top menu bar and click Kernel > Change kernel In the dropdown menu, you should be selecting Python[conda env:suite2p]."
   ]
  },
  {
   "cell_type": "code",
   "execution_count": 1,
   "metadata": {},
   "outputs": [],
   "source": [
    "from pathlib import Path\n",
    "import suite2p"
   ]
  },
  {
   "cell_type": "markdown",
   "metadata": {},
   "source": [
    "Go to this <a href=\"https://osf.io/ztcnm/?view_only=59d6948657a742f688b4cac9ad1f54e9\">OSF page</a> to download the .tiff file we will use for this demo. \n",
    "\n",
    "Click on the file labelled \"2P_M210914_TEX_20114_FB.tiff\" then select 'Download'. From your file explorer, move the downloaded file into 's2p_demo' > 'my_files' > 'data' "
   ]
  },
  {
   "cell_type": "markdown",
   "metadata": {},
   "source": [
    "This next block of code will open the GUI."
   ]
  },
  {
   "cell_type": "code",
   "execution_count": null,
   "metadata": {},
   "outputs": [],
   "source": [
    "!suite2p\n"
   ]
  },
  {
   "cell_type": "markdown",
   "metadata": {},
   "source": [
    "You should see the GUI look like below:\n",
    "\n",
    "<img src=tutorial_images\\GUI.png>"
   ]
  },
  {
   "cell_type": "markdown",
   "metadata": {},
   "source": [
    "From here, go to File > Run suite2p. This will open a new window.\n",
    "\n",
    "<img src=tutorial_images\\run-suite2p.png>\n",
    "<img src=tutorial_images\\new-window.png>"
   ]
  },
  {
   "cell_type": "markdown",
   "metadata": {},
   "source": [
    "Before we run suite2p, we want to make some edits to the settings. Ensure that:\n",
    "* tau is set to 0.7\n",
    "* fs is set to 30.\n",
    "\n",
    "<img src=tutorial_images\\set-tau-fs.png>"
   ]
  },
  {
   "cell_type": "markdown",
   "metadata": {},
   "source": [
    "Now we will set the path to your data. You should have placed the downloaded .tiff file in the data directory earlier. Click on on the 'Add directory to data path' button and navigate to this .tiff file, then press 'Open'.\n",
    "<img src=tutorial_images\\add-data-directory.png>\n",
    "<img src=tutorial_images\\set-data-path.png>"
   ]
  },
  {
   "cell_type": "markdown",
   "metadata": {},
   "source": [
    "We also need to set the path of the directory where we want our results to go. Click on the 'Add save_path' button, then navigate to our 'test_project' directory, in the 's2p_demo' directory.\n",
    "\n",
    "<img src=tutorial_images\\add-save-directory.png>\n",
    "<img src=tutorial_images\\set-save-directory.png>"
   ]
  },
  {
   "cell_type": "markdown",
   "metadata": {},
   "source": [
    "We're now ready to run suite2p! Check that your window looks like below, then click ont the 'RUN SUITE2P' button.\n",
    "\n",
    ">NOTE: We have found in tests prior to this demo workshop that performance of Suite2p on Intel Macs was slightly less reliable in comparison to other CPUs. If you encounter issues at this point running Suite2p on your computer, please find a partner to work with for the subsequent steps of this demo.\n",
    "\n",
    "<img src=tutorial_images\\run-settings.png>"
   ]
  },
  {
   "cell_type": "markdown",
   "metadata": {},
   "source": [
    "The console window should start outputting updates on its progress. When you see 'opening in GUI, can close this window', go back to your GUI window to see the final result.\n",
    "\n",
    "<img src=tutorial_images\\console-outputs.png>"
   ]
  },
  {
   "cell_type": "markdown",
   "metadata": {},
   "source": [
    "You should end up with something like below. In this example the number of cells found was 100.\n",
    "\n",
    "<img src=tutorial_images\\cells-found.png>"
   ]
  }
 ],
 "metadata": {
  "kernelspec": {
   "display_name": "suite2p",
   "language": "python",
   "name": "python3"
  },
  "language_info": {
   "codemirror_mode": {
    "name": "ipython",
    "version": 3
   },
   "file_extension": ".py",
   "mimetype": "text/x-python",
   "name": "python",
   "nbconvert_exporter": "python",
   "pygments_lexer": "ipython3",
   "version": "3.9.19"
  }
 },
 "nbformat": 4,
 "nbformat_minor": 2
}
